{
 "cells": [
  {
   "cell_type": "code",
   "execution_count": 1,
   "metadata": {},
   "outputs": [],
   "source": [
    "import mlx.core as mx"
   ]
  },
  {
   "cell_type": "code",
   "execution_count": null,
   "metadata": {},
   "outputs": [],
   "source": [
    "A = mx.array(\n",
    "    [\n",
    "        [1, 0],\n",
    "        [-1, 2],\n",
    "    ]\n",
    ")\n",
    "B = mx.array([[0], [1]])\n",
    "C = mx.array([1, 1])\n",
    "D = mx.array([0])"
   ]
  },
  {
   "cell_type": "code",
   "execution_count": 20,
   "metadata": {},
   "outputs": [
    {
     "name": "stdout",
     "output_type": "stream",
     "text": [
      "(2, 100)\n",
      "(100,)\n"
     ]
    },
    {
     "ename": "ValueError",
     "evalue": "[matmul] Last dimension of first input with shape (2,2) must match second to last dimension of second input with shape (100,1).",
     "output_type": "error",
     "traceback": [
      "\u001b[31m---------------------------------------------------------------------------\u001b[39m",
      "\u001b[31mValueError\u001b[39m                                Traceback (most recent call last)",
      "\u001b[36mCell\u001b[39m\u001b[36m \u001b[39m\u001b[32mIn[20]\u001b[39m\u001b[32m, line 7\u001b[39m\n\u001b[32m      5\u001b[39m \u001b[38;5;28mprint\u001b[39m(h[\u001b[32m0\u001b[39m].shape)\n\u001b[32m      6\u001b[39m \u001b[38;5;28;01mfor\u001b[39;00m i \u001b[38;5;129;01min\u001b[39;00m \u001b[38;5;28mrange\u001b[39m(\u001b[32m1\u001b[39m, \u001b[38;5;28mlen\u001b[39m(u)):\n\u001b[32m----> \u001b[39m\u001b[32m7\u001b[39m     h[i] = \u001b[43mA\u001b[49m\u001b[43m \u001b[49m\u001b[43m@\u001b[49m\u001b[43m \u001b[49m\u001b[43mh\u001b[49m\u001b[43m[\u001b[49m\u001b[43mi\u001b[49m\u001b[43m \u001b[49m\u001b[43m-\u001b[49m\u001b[43m \u001b[49m\u001b[32;43m1\u001b[39;49m\u001b[43m]\u001b[49m + B * u[i - \u001b[32m1\u001b[39m]\n\u001b[32m      8\u001b[39m     y = C @ h + D * u\n\u001b[32m      9\u001b[39m     \u001b[38;5;28mprint\u001b[39m(y)\n",
      "\u001b[31mValueError\u001b[39m: [matmul] Last dimension of first input with shape (2,2) must match second to last dimension of second input with shape (100,1)."
     ]
    }
   ],
   "source": [
    "t = mx.arange(0, 10, 0.1)\n",
    "u = mx.sin(t)\n",
    "h = mx.zeros((2, len(u)))\n",
    "print(h.shape)\n",
    "print(h[0].shape)\n",
    "for i in range(1, len(u)):\n",
    "    h[i] = A @ h[i - 1] + B * u[i - 1]\n",
    "    y = C @ h + D * u\n",
    "    print(y)"
   ]
  },
  {
   "cell_type": "code",
   "execution_count": null,
   "metadata": {},
   "outputs": [],
   "source": []
  }
 ],
 "metadata": {
  "kernelspec": {
   "display_name": "dl",
   "language": "python",
   "name": "python3"
  },
  "language_info": {
   "codemirror_mode": {
    "name": "ipython",
    "version": 3
   },
   "file_extension": ".py",
   "mimetype": "text/x-python",
   "name": "python",
   "nbconvert_exporter": "python",
   "pygments_lexer": "ipython3",
   "version": "undefined.undefined.undefined"
  }
 },
 "nbformat": 4,
 "nbformat_minor": 2
}
